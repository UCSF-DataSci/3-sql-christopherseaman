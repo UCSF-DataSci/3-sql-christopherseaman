{
 "cells": [
  {
   "cell_type": "markdown",
   "metadata": {},
   "source": [
    "# SQL Murder Mystery Assignment\n",
    "\n",
    "## Overview\n",
    "In this assignment, you'll solve a murder mystery using SQL queries! This is a fun way to practice your SQL skills while solving an intriguing crime. The mystery is set in SQL City, where a murder occurred on January 15, 2018.\n",
    "\n",
    "## Learning Objectives\n",
    "- Practice writing SQL queries\n",
    "- Learn to join tables and filter data\n",
    "- Understand how to use SQL to solve real-world problems"
   ]
  },
  {
   "cell_type": "code",
   "execution_count": null,
   "metadata": {},
   "outputs": [],
   "source": [
    "# Install required packages\n",
    "%pip install ipython-sql sqlalchemy pandas"
   ]
  },
  {
   "cell_type": "code",
   "execution_count": null,
   "metadata": {},
   "outputs": [],
   "source": [
    "# Load SQL magic\n",
    "%load_ext sql\n",
    "\n",
    "# Connect to the database\n",
    "%sql sqlite:///sql-murder-mystery.db"
   ]
  },
  {
   "cell_type": "markdown",
   "metadata": {},
   "source": [
    "## Database Schema\n",
    "\n",
    "Here's the Entity Relationship Diagram (ERD) for our database. It shows all the tables and their relationships:\n",
    "\n",
    "![Database Schema](schema.png)\n",
    "\n",
    "Key symbols in the diagram:\n",
    "- Gold key: Primary key (unique identifier for each row)\n",
    "- Blue arrow: Foreign key (references data in another table)\n",
    "- Gray arrow: Relationship between tables"
   ]
  },
  {
   "cell_type": "markdown",
   "metadata": {},
   "source": [
    "## The Crime Scene Report\n",
    "\n",
    "A crime has taken place and the detective needs your help. The detective gave you the crime scene report, but you somehow lost it. You vaguely remember that the crime was a **murder** that occurred sometime on **Jan.15, 2018** and that it took place in **SQL City**.\n",
    "\n",
    "Let's start by retrieving the corresponding crime scene report from the police department's database."
   ]
  },
  {
   "cell_type": "code",
   "execution_count": null,
   "metadata": {},
   "outputs": [],
   "source": [
    "%%sql\n",
    "SELECT * FROM crime_scene_report\n",
    "WHERE type = 'murder'\n",
    "AND city = 'SQL City'\n",
    "AND date = '20180115';"
   ]
  },
  {
   "cell_type": "markdown",
   "metadata": {},
   "source": [
    "## Finding the Witnesses\n",
    "\n",
    "The crime scene report mentions two witnesses. Let's find them!\n",
    "\n",
    "### First Witness\n",
    "The first witness lives at the last house on a street called \"Northwestern Dr\". Let's find them."
   ]
  },
  {
   "cell_type": "code",
   "execution_count": null,
   "metadata": {},
   "outputs": [],
   "source": [
    "%%sql\n",
    "SELECT * FROM person\n",
    "WHERE address_street_name = 'Northwestern Dr'\n",
    "ORDER BY address_number DESC\n",
    "LIMIT 1;"
   ]
  },
  {
   "cell_type": "markdown",
   "metadata": {},
   "source": [
    "### Second Witness\n",
    "The second witness, named Annabel, lives somewhere on \"Franklin Ave\". Let's find them."
   ]
  },
  {
   "cell_type": "code",
   "execution_count": null,
   "metadata": {},
   "outputs": [],
   "source": [
    "%%sql\n",
    "SELECT * FROM person\n",
    "WHERE name LIKE '%Annabel%'\n",
    "AND address_street_name = 'Franklin Ave';"
   ]
  },
  {
   "cell_type": "markdown",
   "metadata": {},
   "source": [
    "## Interview Transcripts\n",
    "\n",
    "Now that we've found our witnesses, let's look at their interview transcripts."
   ]
  },
  {
   "cell_type": "code",
   "execution_count": null,
   "metadata": {},
   "outputs": [],
   "source": [
    "%%sql\n",
    "SELECT person.name, interview.transcript\n",
    "FROM person\n",
    "JOIN interview\n",
    "ON person.id = interview.person_id\n",
    "WHERE person.id = 14887 OR person.id = 16371;"
   ]
  },
  {
   "cell_type": "markdown",
   "metadata": {},
   "source": [
    "## Your Turn!\n",
    "\n",
    "Now it's your turn to solve the mystery! Use the clues from the interview transcripts and the database to find the murderer.\n",
    "\n",
    "Here are some tips:\n",
    "1. Look at the schema diagram to understand the relationships between tables\n",
    "2. Use JOINs to connect related information\n",
    "3. Use WHERE clauses to filter data\n",
    "4. Don't forget to check the solution table when you think you've found the murderer\n",
    "\n",
    "Write your queries in the cells below to investigate the crime. You can add as many cells as you need."
   ]
  },
  {
   "cell_type": "code",
   "execution_count": null,
   "metadata": {},
   "outputs": [],
   "source": [
    "%%sql\n",
    "# Your investigation queries go here\n",
    "# Add as many cells as you need"
   ]
  },
  {
   "cell_type": "markdown",
   "metadata": {},
   "source": [
    "## Checking Your Solution\n",
    "\n",
    "When you think you've found the murderer, use the following code to check your solution. Replace 'Your Answer Here' with the name of the person you believe committed the murder."
   ]
  },
  {
   "cell_type": "code",
   "execution_count": null,
   "metadata": {},
   "outputs": [],
   "source": [
    "%%sql\n",
    "INSERT INTO solution VALUES (1, 'Your Answer Here');\n",
    "SELECT value FROM solution;"
   ]
  },
  {
   "cell_type": "markdown",
   "metadata": {},
   "source": [
    "## Submission Instructions\n",
    "\n",
    "1. Complete all the queries in this notebook\n",
    "2. Make sure you've found the correct murderer\n",
    "3. Save your notebook\n",
    "4. Submit both your completed notebook and the modified database file (which will contain your solution)\n",
    "\n",
    "The database will be automatically checked to verify your solution."
   ]
  }
 ],
 "metadata": {
  "kernelspec": {
   "display_name": "Python 3",
   "language": "python",
   "name": "python3"
  },
  "language_info": {
   "codemirror_mode": {
    "name": "ipython",
    "version": 3
   },
   "file_extension": ".py",
   "mimetype": "text/x-python",
   "name": "python",
   "nbconvert_exporter": "python",
   "pygments_lexer": "ipython3",
   "version": "3.8.0"
  }
 },
 "nbformat": 4,
 "nbformat_minor": 4
}
