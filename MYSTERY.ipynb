{
 "cells": [
  {
   "cell_type": "markdown",
   "metadata": {},
   "source": [
    "# SQL Murder Mystery\n",
    "\n",
    "## Can you find out whodunnit?\n",
    "\n",
    "![A decorative illustration of a detective looking at an evidence board.](https://mystery.knightlab.com/174092-clue-illustration.png)\n",
    "\n",
    "There's been a Murder in SQL City! The SQL Murder Mystery is designed to be both a self-directed lesson to learn SQL concepts and commands and a fun game for experienced SQL users to solve an intriguing crime."
   ]
  },
  {
   "cell_type": "markdown",
   "metadata": {},
   "source": [
    "## Setup\n",
    "\n",
    "First, let's install the necessary packages and connect to the database."
   ]
  },
  {
   "cell_type": "code",
   "execution_count": null,
   "metadata": {},
   "outputs": [],
   "source": [
    "# Install required packages\n",
    "%pip install ipython-sql sqlalchemy pandas --quiet\n",
    "\n",
    "# Load SQL magic\n",
    "%load_ext sql\n",
    "\n",
    "# Connect to the database\n",
    "%sql sqlite:///sql-murder-mystery.db"
   ]
  },
  {
   "cell_type": "markdown",
   "metadata": {},
   "source": [
    "## The Crime\n",
    "\n",
    "A crime has taken place and the detective needs your help. The detective gave you the crime scene report, but you somehow lost it. You vaguely remember that the crime was a **murder** that occurred sometime on **Jan.15, 2018** and that it took place in **SQL City**. Start by retrieving the corresponding crime scene report from the police department’s database."
   ]
  },
  {
   "cell_type": "code",
   "execution_count": null,
   "metadata": {},
   "outputs": [],
   "source": [
    "%%sql\n",
    "\n",
    "SELECT * \n",
    "FROM crime_scene_report\n",
    "WHERE date = 20180115 \n",
    "  AND type = 'murder'\n",
    "  AND city = 'SQL City';"
   ]
  },
  {
   "cell_type": "markdown",
   "metadata": {},
   "source": [
    "**Crime Scene Report Output:**\n",
    "```\n",
    "Security footage shows that there were 2 witnesses. The first witness lives at the last house on \"Northwestern Dr\". The second witness, named Annabel, lives somewhere on \"Franklin Ave\".\n",
    "```\n",
    "\n",
    "Now, let's find the witnesses based on the report."
   ]
  },
  {
   "cell_type": "markdown",
   "metadata": {},
   "source": [
    "### Find the Witnesses"
   ]
  },
  {
   "cell_type": "code",
   "execution_count": null,
   "metadata": {},
   "outputs": [],
   "source": [
    "%%sql\n",
    "\n",
    "SELECT * \n",
    "FROM person\n",
    "WHERE address_street_name = 'Northwestern Dr'\n",
    "ORDER BY address_number DESC\n",
    "LIMIT 1;"
   ]
  },
  {
   "cell_type": "code",
   "execution_count": null,
   "metadata": {},
   "outputs": [],
   "source": [
    "%%sql\n",
    "\n",
    "SELECT * \n",
    "FROM person\n",
    "WHERE name LIKE 'Annabel%'\n",
    "  AND address_street_name = 'Franklin Ave';"
   ]
  },
  {
   "cell_type": "markdown",
   "metadata": {},
   "source": [
    "**Witness Information:**\n",
    "*   Witness 1: Morty Schapiro (ID: 14887), lives at 4919 Northwestern Dr.\n",
    "*   Witness 2: Annabel Miller (ID: 16371), lives at 103 Franklin Ave.\n",
    "\n",
    "Let's see what they told the police in their interviews."
   ]
  },
  {
   "cell_type": "markdown",
   "metadata": {},
   "source": [
    "### Read the Interviews"
   ]
  },
  {
   "cell_type": "code",
   "execution_count": null,
   "metadata": {},
   "outputs": [],
   "source": [
    "%%sql\n",
    "\n",
    "SELECT * \n",
    "FROM interview\n",
    "WHERE person_id IN (14887, 16371);"
   ]
  },
  {
   "cell_type": "markdown",
   "metadata": {},
   "source": [
    "**Interview Transcripts:**\n",
    "*   **Morty Schapiro (ID 14887):** \"I heard a gunshot and then saw a man run out. He had a 'Get Fit Now' bag. The membership number on the bag started with '48Z'. Only gold members have those bags. The man got into a car with a plate that included 'H42W'.\"\n",
    "*   **Annabel Miller (ID 16371):** \"I saw the murder happen, and I recognized the killer from my gym when I was working out last week on January the 9th.\"\n",
    "\n",
    "Let's combine these clues to find the suspect."
   ]
  },
  {
   "cell_type": "markdown",
   "metadata": {},
   "source": [
    "### Follow the Clues"
   ]
  },
  {
   "cell_type": "code",
   "execution_count": null,
   "metadata": {},
   "outputs": [],
   "source": [
    "%%sql\n",
    "\n",
    "SELECT p.id, p.name, p.license_id\n",
    "FROM person p\n",
    "JOIN drivers_license dl ON p.license_id = dl.id\n",
    "JOIN get_fit_now_member gfnm ON p.id = gfnm.person_id\n",
    "JOIN get_fit_now_check_in gfnc ON gfnm.id = gfnc.membership_id\n",
    "WHERE gfnm.membership_status = 'gold'\n",
    "  AND gfnm.id LIKE '48Z%'\n",
    "  AND dl.plate_number LIKE '%H42W%'\n",
    "  AND gfnc.check_in_date = 20180109;"
   ]
  },
  {
   "cell_type": "markdown",
   "metadata": {},
   "source": [
    "**Suspect Identified:**\n",
    "The query returns one person:\n",
    "*   ID: 67318\n",
    "*   Name: Jeremy Bowers\n",
    "*   License ID: 423327\n",
    "\n",
    "Jeremy Bowers matches all the clues from both witnesses."
   ]
  },
  {
   "cell_type": "markdown",
   "metadata": {},
   "source": [
    "## Check the Solution\n",
    "\n",
    "Now we insert the name into the `solution` table to verify."
   ]
  },
  {
   "cell_type": "code",
   "execution_count": null,
   "metadata": {},
   "outputs": [],
   "source": [
    "%%sql\n",
    "\n",
    "INSERT INTO solution VALUES (1, 'Jeremy Bowers');\n",
    "\n",
    "SELECT value FROM solution;"
   ]
  },
  {
   "cell_type": "markdown",
   "metadata": {},
   "source": [
    "**Result:**\n",
    "```\n",
    "Congrats, you found the murderer! But wait, there's more... If you think you're up for a challenge, try querying the interview transcript of the murderer to find the real villain behind this crime. If you feel especially confident in your SQL skills, try to complete this final step with no more than 2 queries. Use this same INSERT statement with your new suspect to check your answer.\n",
    "```"
   ]
  }
 ],
 "metadata": {
  "kernelspec": {
   "display_name": ".venv",
   "language": "python",
   "name": "python3"
  },
  "language_info": {
   "codemirror_mode": {
    "name": "ipython",
    "version": 3
   },
   "file_extension": ".py",
   "mimetype": "text/x-python",
   "name": "python",
   "nbconvert_exporter": "python",
   "pygments_lexer": "ipython3",
   "version": "3.13.3"
  }
 },
 "nbformat": 4,
 "nbformat_minor": 4
}
